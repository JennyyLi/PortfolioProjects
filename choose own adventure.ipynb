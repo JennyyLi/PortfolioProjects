{
 "cells": [
  {
   "cell_type": "code",
   "execution_count": null,
   "id": "d9e5a4d7",
   "metadata": {},
   "outputs": [],
   "source": [
    "name = input(\"Type your name: \")\n",
    "print(\"Welcome\", name, \"to this adventure!\")\n",
    "\n",
    "answer = input(\"You are on an old and dusty road, it has come to an end and you can go left or right. Which way would you like to go?\").lower()\n",
    "\n",
    "if answer == \"left\":\n",
    "    answer = input(\"You have come to a river, you can walk around it or swim across? Type 'walk' to walk around and 'swim' to swim across\")\n",
    "    if answer == \"swim\":\n",
    "        print(\"You swam across the river and got eaten by a crocodile. Oh no.\")\n",
    "    elif answer == \"walk\":\n",
    "        print(\"You walked for too long, ran out of food and unfortunately lost the game\")\n",
    "    else:\n",
    "        print(\"Wasn't a valid option. You lose.\")\n",
    "elif answer == \"right\":\n",
    "    answer = input(\"You come to a bridge. It looks wobbly. Do you want to cross it or swing across like Tarzan ('cross'/'swing')?\")\n",
    "    \n",
    "    if answer == \"swing\":\n",
    "        print(\"You have the confidence of Tarzan and create a rope out of vines. You know you can do this. You tie the rope on a branch and bravely jump out into the abyss. Unfortunately you had not been working out your arms recently and your life flashed before your eyes as your hands slipped from the vines. Game over.\")\n",
    "    elif answer == \"cross\":\n",
    "        answer = input(\"You cross the bridge safely and meet a stranger. Do you talk to them (yes/no)? \")\n",
    "        if answer == \"yes\":\n",
    "            print(\"You talked to the stranger and they give you the treasure box you were looking for! You WIN!\")\n",
    "        elif answer == \"no\":\n",
    "            print(\"You walk past the man and into the forrest. Unfortunately, there is no food in the forrest. You lose.\")\n",
    "        else:\n",
    "            print(\"Wasn't a valid option. You lose.\")\n",
    "    else:\n",
    "        print(\"Wasn't a valid option. You lose.\")\n",
    "else:\n",
    "    print('You were too indecisive! You lose.')\n",
    "\n",
    "print(\"Thank you for playing\", name)"
   ]
  },
  {
   "cell_type": "code",
   "execution_count": null,
   "id": "5ef0de0c",
   "metadata": {},
   "outputs": [],
   "source": []
  }
 ],
 "metadata": {
  "kernelspec": {
   "display_name": "Python 3",
   "language": "python",
   "name": "python3"
  },
  "language_info": {
   "codemirror_mode": {
    "name": "ipython",
    "version": 3
   },
   "file_extension": ".py",
   "mimetype": "text/x-python",
   "name": "python",
   "nbconvert_exporter": "python",
   "pygments_lexer": "ipython3",
   "version": "3.6.15"
  }
 },
 "nbformat": 4,
 "nbformat_minor": 5
}
